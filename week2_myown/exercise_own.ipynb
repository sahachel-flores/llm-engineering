{
 "cells": [
  {
   "cell_type": "code",
   "execution_count": 1,
   "metadata": {},
   "outputs": [
    {
     "name": "stdout",
     "output_type": "stream",
     "text": [
      "Mon Feb  3 16:56:42 2025       \n",
      "+-----------------------------------------------------------------------------------------+\n",
      "| NVIDIA-SMI 550.120                Driver Version: 550.120        CUDA Version: 12.4     |\n",
      "|-----------------------------------------+------------------------+----------------------+\n",
      "| GPU  Name                 Persistence-M | Bus-Id          Disp.A | Volatile Uncorr. ECC |\n",
      "| Fan  Temp   Perf          Pwr:Usage/Cap |           Memory-Usage | GPU-Util  Compute M. |\n",
      "|                                         |                        |               MIG M. |\n",
      "|=========================================+========================+======================|\n",
      "|   0  NVIDIA GeForce RTX 4070        Off |   00000000:01:00.0  On |                  N/A |\n",
      "| 31%   31C    P8             11W /  200W |    1385MiB /  12282MiB |      0%      Default |\n",
      "|                                         |                        |                  N/A |\n",
      "+-----------------------------------------+------------------------+----------------------+\n",
      "                                                                                         \n",
      "+-----------------------------------------------------------------------------------------+\n",
      "| Processes:                                                                              |\n",
      "|  GPU   GI   CI        PID   Type   Process name                              GPU Memory |\n",
      "|        ID   ID                                                               Usage      |\n",
      "|=========================================================================================|\n",
      "|    0   N/A  N/A      2886      G   /usr/lib/xorg/Xorg                            444MiB |\n",
      "|    0   N/A  N/A      3197      G   /usr/bin/gnome-shell                           37MiB |\n",
      "|    0   N/A  N/A      3739      G   /usr/libexec/xdg-desktop-portal-gnome          14MiB |\n",
      "|    0   N/A  N/A     11564      G   ...45,262144 --variations-seed-version        126MiB |\n",
      "|    0   N/A  N/A     19140      G   ...erProcess --variations-seed-version        182MiB |\n",
      "|    0   N/A  N/A     20474      C   /home/sahachel/anaconda3/bin/python           498MiB |\n",
      "|    0   N/A  N/A     22892      G   ...erProcess --variations-seed-version         45MiB |\n",
      "|    0   N/A  N/A     65236      G   /usr/bin/nautilus                              15MiB |\n",
      "+-----------------------------------------------------------------------------------------+\n"
     ]
    }
   ],
   "source": [
    "gpu_info = !nvidia-smi\n",
    "gpu_info = \"\\n\".join(gpu_info)\n",
    "\n",
    "if gpu_info.find(\"failed\") >= 0:\n",
    "    print(\"Not connected to GPU\")\n",
    "else:\n",
    "    print(gpu_info)"
   ]
  },
  {
   "cell_type": "code",
   "execution_count": null,
   "metadata": {},
   "outputs": [],
   "source": []
  }
 ],
 "metadata": {
  "kernelspec": {
   "display_name": "llms",
   "language": "python",
   "name": "python3"
  },
  "language_info": {
   "codemirror_mode": {
    "name": "ipython",
    "version": 3
   },
   "file_extension": ".py",
   "mimetype": "text/x-python",
   "name": "python",
   "nbconvert_exporter": "python",
   "pygments_lexer": "ipython3",
   "version": "3.11.11"
  }
 },
 "nbformat": 4,
 "nbformat_minor": 2
}
