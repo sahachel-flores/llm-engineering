{
 "cells": [
  {
   "cell_type": "markdown",
   "id": "fe12c203-e6a6-452c-a655-afb8a03a4ff5",
   "metadata": {},
   "source": [
    "# End of week 1 exercise\n",
    "\n",
    "To demonstrate your familiarity with OpenAI API, and also Ollama, build a tool that takes a technical question,  \n",
    "and responds with an explanation. This is a tool that you will be able to use yourself during the course!"
   ]
  },
  {
   "cell_type": "code",
   "execution_count": 19,
   "id": "c1070317-3ed9-4659-abe3-828943230e03",
   "metadata": {},
   "outputs": [],
   "source": [
    "# imports\n",
    "import os\n",
    "import requests\n",
    "import json\n",
    "from typing import List\n",
    "from dotenv import load_dotenv\n",
    "from bs4 import BeautifulSoup\n",
    "from IPython.display import Markdown, display, update_display\n",
    "from openai import OpenAI\n",
    "import ollama\n"
   ]
  },
  {
   "cell_type": "code",
   "execution_count": 20,
   "id": "8baf6d80",
   "metadata": {},
   "outputs": [
    {
     "name": "stdout",
     "output_type": "stream",
     "text": [
      "\u001b[?25lpulling manifest ⠙ \u001b[?25h\u001b[?25l\u001b[2K\u001b[1Gpulling manifest ⠙ \u001b[?25h\u001b[?25l\u001b[2K\u001b[1Gpulling manifest ⠹ \u001b[?25h\u001b[?25l\u001b[2K\u001b[1Gpulling manifest ⠸ \u001b[?25h\u001b[?25l\u001b[2K\u001b[1Gpulling manifest ⠴ \u001b[?25h\u001b[?25l\u001b[2K\u001b[1Gpulling manifest ⠴ \u001b[?25h\u001b[?25l\u001b[2K\u001b[1Gpulling manifest ⠦ \u001b[?25h\u001b[?25l\u001b[2K\u001b[1Gpulling manifest \n",
      "pulling dde5aa3fc5ff... 100% ▕████████████████▏ 2.0 GB                         \n",
      "pulling 966de95ca8a6... 100% ▕████████████████▏ 1.4 KB                         \n",
      "pulling fcc5a6bec9da... 100% ▕████████████████▏ 7.7 KB                         \n",
      "pulling a70ff7e570d9... 100% ▕████████████████▏ 6.0 KB                         \n",
      "pulling 56bb8bd477a5... 100% ▕████████████████▏   96 B                         \n",
      "pulling 34bb5ab01051... 100% ▕████████████████▏  561 B                         \n",
      "verifying sha256 digest \n",
      "writing manifest \n",
      "success \u001b[?25h\n"
     ]
    }
   ],
   "source": [
    "!ollama pull llama3.2"
   ]
  },
  {
   "cell_type": "code",
   "execution_count": 30,
   "id": "4a456906-915a-4bfd-bb9d-57e505c5093f",
   "metadata": {},
   "outputs": [],
   "source": [
    "# constants\n",
    "\n",
    "MODEL_GPT = 'gpt-4o-mini'\n",
    "MODEL_LLAMA = 'llama3.2'"
   ]
  },
  {
   "cell_type": "code",
   "execution_count": 31,
   "id": "a8d7923c-5f28-4c30-8556-342d7c8497c1",
   "metadata": {},
   "outputs": [],
   "source": [
    "# set up environment\n",
    "Openai = OpenAI()\n",
    "system_prompt = \"You are a technical coding expert and likes to answer questions using examples. \""
   ]
  },
  {
   "cell_type": "code",
   "execution_count": 32,
   "id": "3f0d0137-52b0-47a8-81a8-11a90a010798",
   "metadata": {},
   "outputs": [],
   "source": [
    "# here is the question; type over this to ask something new\n",
    "\n",
    "question = \"\"\"\n",
    "Please explain what this code does and why:\n",
    "yield from {book.get(\"author\") for book in books if book.get(\"author\")}\n",
    "\"\"\""
   ]
  },
  {
   "cell_type": "code",
   "execution_count": 33,
   "id": "628eb396",
   "metadata": {},
   "outputs": [],
   "source": [
    "message = [\n",
    "    {\"role\":\"system\", \"content\":system_prompt},\n",
    "    {\"role\":\"user\", \"content\":question}\n",
    "]"
   ]
  },
  {
   "cell_type": "code",
   "execution_count": 38,
   "id": "60ce7000-a4a5-4cce-a261-e75ef45063b4",
   "metadata": {},
   "outputs": [
    {
     "data": {
      "text/markdown": [
       "The line of code you provided utilizes a generator expression in combination with the `yield from` statement. Let's break it down to understand what it does and why it is structured this way.\n",
       "\n",
       "### Breakdown of the Code:\n",
       "\n",
       "python\n",
       "yield from {book.get(\"author\") for book in books if book.get(\"author\")}\n",
       "\n",
       "\n",
       "1. **Set Comprehension**:\n",
       "   - `{book.get(\"author\") for book in books if book.get(\"author\")}`: This is a set comprehension that iterates over a collection called `books`.\n",
       "   - `books` is expected to be a list (or any iterable) of dictionaries, where each dictionary represents a book, and it has an entry for `\"author\"`.\n",
       "   - `book.get(\"author\")` retrieves the value of the `\"author\"` key from each `book` dictionary.\n",
       "   - The `if book.get(\"author\")` part is a conditional that filters the authors: it ensures that only books with a valid (non-`None` or empty string) author are included in the resulting set.\n",
       "\n",
       "2. **Set Characteristics**:\n",
       "   - The use of curly braces `{}` denotes that a set is being created. A set inherently contains only unique elements, so if there are multiple books by the same author, that author's name will only appear once in the resulting set.\n",
       "\n",
       "3. **Yield from**:\n",
       "   - The `yield from` statement is used in a generator function. It effectively delegates the yielding of values to another iterable (in this case, the set of authors).\n",
       "   - This means that when you call the generator function containing this line, it will yield each unique author name one at a time.\n",
       "\n",
       "### Why Use This Code?\n",
       "\n",
       "1. **Uniqueness of Authors**:\n",
       "   - By using a set comprehension, the code ensures that each author name is unique. This could be important in scenarios where you want to list or process unique authors without duplicates.\n",
       "\n",
       "2. **Efficiency**:\n",
       "   - `yield from` allows for efficient iteration over the generated set without needing to create an intermediate list or for loop. It is a way to yield all items from the set directly.\n",
       "\n",
       "3. **Clarity**:\n",
       "   - The construction makes it clear what is happening: you're extracting the authors from a collection of books and yielding them.\n",
       "\n",
       "### Example:\n",
       "\n",
       "Here’s a quick example demonstrating how this could work in practice:\n",
       "\n",
       "python\n",
       "# Sample data: List of book dictionaries\n",
       "books = [\n",
       "    {\"title\": \"Book A\", \"author\": \"Author X\"},\n",
       "    {\"title\": \"Book B\", \"author\": \"Author Y\"},\n",
       "    {\"title\": \"Book C\", \"author\": \"Author X\"},  # Duplicate author\n",
       "    {\"title\": \"Book D\", \"author\": None},         # No author\n",
       "    {\"title\": \"Book E\", \"author\": \"Author Z\"},\n",
       "]\n",
       "\n",
       "# Generator function using the line of code provided\n",
       "def unique_authors(books):\n",
       "    yield from {book.get(\"author\") for book in books if book.get(\"author\")}\n",
       "\n",
       "# Calling the generator function and printing unique authors\n",
       "for author in unique_authors(books):\n",
       "    print(author)\n",
       "\n",
       "\n",
       "### Output:\n",
       "\n",
       "\n",
       "Author X\n",
       "Author Y\n",
       "Author Z\n",
       "\n",
       "\n",
       "In this example, `\"Author X\"` only appears once in the output as expected, demonstrating the functionality of the given code line."
      ],
      "text/plain": [
       "<IPython.core.display.Markdown object>"
      ]
     },
     "metadata": {},
     "output_type": "display_data"
    }
   ],
   "source": [
    "# Get gpt-4o-mini to answer, with streaming\n",
    "stream = Openai.chat.completions.create(model=MODEL_GPT, messages=message, stream=True)\n",
    "\n",
    "  \n",
    "response1 = \"\"\n",
    "display_handle = display(Markdown(\"\"), display_id=True)\n",
    "for chunk in stream:\n",
    "    response1 += chunk.choices[0].delta.content or ''\n",
    "    response1 = response1.replace(\"```\",\"\").replace(\"markdown\", \"\")\n",
    "    update_display(Markdown(response1), display_id=display_handle.display_id)"
   ]
  },
  {
   "cell_type": "code",
   "execution_count": 12,
   "id": "8f7c8ea8-4082-4ad0-8751-3301adcf6538",
   "metadata": {},
   "outputs": [],
   "source": [
    "# Get Llama 3.2 to answer\n",
    "response = ollama.chat(model=MODEL_LLAMA, messages=message)"
   ]
  },
  {
   "cell_type": "code",
   "execution_count": 16,
   "id": "55604bec",
   "metadata": {},
   "outputs": [
    {
     "name": "stdout",
     "output_type": "stream",
     "text": [
      "**Delegation with `yield from`**\n",
      "\n",
      "Let's break down the given code snippet:\n",
      "\n",
      "```python\n",
      "yield from {book.get(\"author\") for book in books if book.get(\"author\")}\n",
      "```\n",
      "\n",
      "This line of code uses a combination of generator expressions and delegation (`yield from`) to extract author names from a list of books.\n",
      "\n",
      "**Step-by-Step Explanation:**\n",
      "\n",
      "1. `books` is assumed to be a list or iterable containing dictionaries, where each dictionary represents a book.\n",
      "2. The inner expression `{book.get(\"author\") for book in books if book.get(\"author\")}` creates an iterator that yields author names from the books.\n",
      "\n",
      "Here's what happens inside the curly brackets:\n",
      "\n",
      "* `for book in books` iterates over each book dictionary in the list.\n",
      "* `if book.get(\"author\")` filters out books that don't have an \"author\" key. If a book doesn't have this key, it won't be processed further.\n",
      "* `book.get(\"author\")` extracts the author name from the current book dictionary. If the key is missing, `get()` returns `None`.\n",
      "\n",
      "The resulting iterator yields author names one by one.\n",
      "\n",
      "**Delegation with `yield from`**\n",
      "\n",
      "Now, let's talk about the outer expression: `yield from {...}`.\n",
      "\n",
      "* `yield from` is a delegation syntax in Python 3.3+ that allows us to delegate iteration to another iterable.\n",
      "* In this case, we're delegating iteration to the iterator returned by the inner expression (`{book.get(\"author\") for book in books if book.get(\"author\")}`).\n",
      "\n",
      "When `yield from` encounters an item yielded by its delegated iterator, it yields that same item. This allows us to create a new iterator that combines the results of multiple iterables.\n",
      "\n",
      "**Why use `yield from` here?**\n",
      "\n",
      "By using `yield from`, we can simplify the code and avoid creating a temporary list or other intermediate data structure. Instead, we get to work directly with the iterator returned by the inner expression, which is more memory-efficient and allows us to process the results lazily.\n",
      "\n",
      "In summary:\n",
      "\n",
      "* The inner expression creates an iterator that yields author names from books.\n",
      "* The outer `yield from` delegation takes this iterator as input and uses it to yield its own values (author names) directly.\n"
     ]
    }
   ],
   "source": [
    "print(response['message']['content'])"
   ]
  },
  {
   "cell_type": "code",
   "execution_count": null,
   "id": "2feadad6",
   "metadata": {},
   "outputs": [],
   "source": []
  }
 ],
 "metadata": {
  "kernelspec": {
   "display_name": "llms",
   "language": "python",
   "name": "python3"
  },
  "language_info": {
   "codemirror_mode": {
    "name": "ipython",
    "version": 3
   },
   "file_extension": ".py",
   "mimetype": "text/x-python",
   "name": "python",
   "nbconvert_exporter": "python",
   "pygments_lexer": "ipython3",
   "version": "3.11.11"
  }
 },
 "nbformat": 4,
 "nbformat_minor": 5
}
